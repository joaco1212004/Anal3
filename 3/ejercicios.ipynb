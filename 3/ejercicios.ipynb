{
 "cells": [
  {
   "cell_type": "code",
   "execution_count": 15,
   "metadata": {},
   "outputs": [
    {
     "ename": "TypeError",
     "evalue": "only length-1 arrays can be converted to Python scalars",
     "output_type": "error",
     "traceback": [
      "\u001b[1;31m---------------------------------------------------------------------------\u001b[0m",
      "\u001b[1;31mTypeError\u001b[0m                                 Traceback (most recent call last)",
      "Cell \u001b[1;32mIn[15], line 15\u001b[0m\n\u001b[0;32m     13\u001b[0m \u001b[38;5;66;03m# Calcular la señal para cada cantidad de armónicos y almacenar los resultados\u001b[39;00m\n\u001b[0;32m     14\u001b[0m \u001b[38;5;28;01mfor\u001b[39;00m n \u001b[38;5;129;01min\u001b[39;00m amount_of_sums:\n\u001b[1;32m---> 15\u001b[0m     resultado \u001b[38;5;241m=\u001b[39m \u001b[43mcalcular_bn\u001b[49m\u001b[43m(\u001b[49m\u001b[43mt\u001b[49m\u001b[43m,\u001b[49m\u001b[43m \u001b[49m\u001b[43mn\u001b[49m\u001b[43m)\u001b[49m\n\u001b[0;32m     16\u001b[0m     resultados\u001b[38;5;241m.\u001b[39mappend(resultado)\n\u001b[0;32m     18\u001b[0m     \u001b[38;5;66;03m# Graficar la señal calculada\u001b[39;00m\n",
      "File \u001b[1;32mc:\\Users\\joaqu\\OneDrive\\Pictures\\Documents\\Facultad\\analisis matematico\\3\\punto3.py:8\u001b[0m, in \u001b[0;36mcalcular_bn\u001b[1;34m(t, armonicos)\u001b[0m\n\u001b[0;32m      6\u001b[0m val_actuaL_serie_bn \u001b[38;5;241m=\u001b[39m \u001b[38;5;241m0\u001b[39m\n\u001b[0;32m      7\u001b[0m \u001b[38;5;28;01mfor\u001b[39;00m i \u001b[38;5;129;01min\u001b[39;00m \u001b[38;5;28mrange\u001b[39m(\u001b[38;5;241m1\u001b[39m, armonicos \u001b[38;5;241m+\u001b[39m \u001b[38;5;241m1\u001b[39m): \u001b[38;5;66;03m# calcula la sumatoria\u001b[39;00m\n\u001b[1;32m----> 8\u001b[0m     val_actuaL_serie_bn \u001b[38;5;241m+\u001b[39m\u001b[38;5;241m=\u001b[39m \u001b[43mbn\u001b[49m\u001b[43m(\u001b[49m\u001b[43mi\u001b[49m\u001b[43m,\u001b[49m\u001b[43m \u001b[49m\u001b[43mt\u001b[49m\u001b[43m)\u001b[49m\n\u001b[0;32m     10\u001b[0m \u001b[38;5;28;01mreturn\u001b[39;00m val_actuaL_serie_bn\n",
      "File \u001b[1;32mc:\\Users\\joaqu\\OneDrive\\Pictures\\Documents\\Facultad\\analisis matematico\\3\\punto3.py:13\u001b[0m, in \u001b[0;36mbn\u001b[1;34m(n, t)\u001b[0m\n\u001b[0;32m     12\u001b[0m \u001b[38;5;28;01mdef\u001b[39;00m \u001b[38;5;21mbn\u001b[39m (n, t):\n\u001b[1;32m---> 13\u001b[0m     \u001b[38;5;28;01mreturn\u001b[39;00m (\u001b[38;5;241m2\u001b[39m\u001b[38;5;241m/\u001b[39m(n\u001b[38;5;241m*\u001b[39mpi)) \u001b[38;5;241m*\u001b[39m (\u001b[38;5;241m1\u001b[39m \u001b[38;5;241m-\u001b[39m (\u001b[38;5;241m-\u001b[39m\u001b[38;5;241m1\u001b[39m)\u001b[38;5;241m*\u001b[39m\u001b[38;5;241m*\u001b[39mn) \u001b[38;5;241m*\u001b[39m (\u001b[43msin\u001b[49m\u001b[43m(\u001b[49m\u001b[38;5;241;43m2\u001b[39;49m\u001b[38;5;241;43m*\u001b[39;49m\u001b[43mpi\u001b[49m\u001b[38;5;241;43m*\u001b[39;49m\u001b[43mn\u001b[49m\u001b[38;5;241;43m*\u001b[39;49m\u001b[43mt\u001b[49m\u001b[43m)\u001b[49m)\n",
      "\u001b[1;31mTypeError\u001b[0m: only length-1 arrays can be converted to Python scalars"
     ]
    }
   ],
   "source": [
    "import numpy as np\n",
    "import matplotlib.pyplot as plt\n",
    "from punto3 import calcular_bn\n",
    "\n",
    "amount_of_sums = [10, 30, 50]\n",
    "\n",
    "# Generar valores de t en el rango deseado\n",
    "t = np.linspace(-5, 5, num=1000)  # 1000 puntos equiespaciados entre -5 y 5\n",
    "\n",
    "# Inicializar listas para almacenar los resultados de las señales\n",
    "resultados = []\n",
    "\n",
    "# Calcular la señal para cada cantidad de armónicos y almacenar los resultados\n",
    "for n in amount_of_sums:\n",
    "    resultado = calcular_bn(t, n)\n",
    "    resultados.append(resultado)\n",
    "\n",
    "    # Graficar la señal calculada\n",
    "    plt.plot(t, resultado, label=f'{n} armónicos')\n",
    "\n",
    "# Mostrar leyenda y etiquetas\n",
    "plt.legend()\n",
    "plt.xlabel('t')\n",
    "plt.ylabel('Valor de la serie de Fourier')\n",
    "plt.title('Series de Fourier con diferentes cantidades de armónicos')\n",
    "plt.grid(True)\n",
    "plt.show()"
   ]
  }
 ],
 "metadata": {
  "kernelspec": {
   "display_name": "Python 3",
   "language": "python",
   "name": "python3"
  },
  "language_info": {
   "codemirror_mode": {
    "name": "ipython",
    "version": 3
   },
   "file_extension": ".py",
   "mimetype": "text/x-python",
   "name": "python",
   "nbconvert_exporter": "python",
   "pygments_lexer": "ipython3",
   "version": "3.12.2"
  }
 },
 "nbformat": 4,
 "nbformat_minor": 2
}
