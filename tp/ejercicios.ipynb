{
 "cells": [
  {
   "cell_type": "code",
   "execution_count": 3,
   "metadata": {},
   "outputs": [
    {
     "name": "stdout",
     "output_type": "stream",
     "text": [
      "9.28980200435594e-15\n",
      "6.237074932031001e-15\n",
      "6.199984891019617e-15\n",
      "3.1185374660155007e-15\n",
      "1.5592687330077503e-15\n",
      "0.0\n",
      "-1.5592687330077503e-15\n",
      "-3.1185374660155007e-15\n",
      "-6.199984891019617e-15\n",
      "-6.237074932031001e-15\n",
      "-9.28980200435594e-15\n"
     ]
    }
   ],
   "source": [
    "from punto3 import calcular_bn\n",
    "\n",
    "for t in range (-5, 6):\n",
    "    resultado = calcular_bn(t, 10)    \n",
    "    print(resultado)"
   ]
  }
 ],
 "metadata": {
  "kernelspec": {
   "display_name": "Python 3",
   "language": "python",
   "name": "python3"
  },
  "language_info": {
   "codemirror_mode": {
    "name": "ipython",
    "version": 3
   },
   "file_extension": ".py",
   "mimetype": "text/x-python",
   "name": "python",
   "nbconvert_exporter": "python",
   "pygments_lexer": "ipython3",
   "version": "3.9.6"
  }
 },
 "nbformat": 4,
 "nbformat_minor": 2
}
